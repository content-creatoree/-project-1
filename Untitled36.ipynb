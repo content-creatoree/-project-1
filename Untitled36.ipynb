{
  "nbformat": 4,
  "nbformat_minor": 0,
  "metadata": {
    "colab": {
      "provenance": [],
      "authorship_tag": "ABX9TyPJ7b42G89H0w72yFd9OrAI",
      "include_colab_link": true
    },
    "kernelspec": {
      "name": "python3",
      "display_name": "Python 3"
    },
    "language_info": {
      "name": "python"
    }
  },
  "cells": [
    {
      "cell_type": "markdown",
      "metadata": {
        "id": "view-in-github",
        "colab_type": "text"
      },
      "source": [
        "<a href=\"https://colab.research.google.com/github/content-creatoree/-project-1/blob/main/Untitled36.ipynb\" target=\"_parent\"><img src=\"https://colab.research.google.com/assets/colab-badge.svg\" alt=\"Open In Colab\"/></a>"
      ]
    },
    {
      "cell_type": "markdown",
      "source": [
        "Password Generator Python Project"
      ],
      "metadata": {
        "id": "Z0c9sFdSNPh4"
      }
    },
    {
      "cell_type": "code",
      "execution_count": 2,
      "metadata": {
        "colab": {
          "base_uri": "https://localhost:8080/"
        },
        "id": "y32uBN8_NNLK",
        "outputId": "b55d600f-bfcc-4da4-cbb4-c6b6ad5f47bb"
      },
      "outputs": [
        {
          "output_type": "stream",
          "name": "stdout",
          "text": [
            "Enter password length: 16\n",
            "Include uppercase letters? (y/n): Ahramsaeedvehniw\n",
            "Include numbers? (y/n): 12345678910111213141516\n",
            "Include special characters? (y/n): #@,.-=+{}()$%^&*!\"\n",
            "Generated Password: pdslnsldskcwljmo\n"
          ]
        }
      ],
      "source": [
        "import random\n",
        "import string\n",
        "\n",
        "def generate_password(length=12, use_uppercase=True, use_numbers=True, use_special_chars=True):\n",
        "    lower = string.ascii_lowercase\n",
        "    upper = string.ascii_uppercase if use_uppercase else ''\n",
        "    digits = string.digits if use_numbers else ''\n",
        "    special = string.punctuation if use_special_chars else ''\n",
        "\n",
        "    all_chars = lower + upper + digits + special\n",
        "\n",
        "    if not all_chars:\n",
        "        raise ValueError(\"At least one character set must be selected\")\n",
        "\n",
        "    password = ''.join(random.choice(all_chars) for _ in range(length))\n",
        "    return password\n",
        "\n",
        "if __name__ == \"__main__\":\n",
        "    length = int(input(\"Enter password length: \"))\n",
        "    use_uppercase = input(\"Include uppercase letters? (y/n): \").strip().lower() == 'y'\n",
        "    use_numbers = input(\"Include numbers? (y/n): \").strip().lower() == 'y'\n",
        "    use_special_chars = input(\"Include special characters? (y/n): \").strip().lower() == 'y'\n",
        "\n",
        "    password = generate_password(length, use_uppercase, use_numbers, use_special_chars)\n",
        "    print(f\"Generated Password: {password}\")\n"
      ]
    }
  ]
}