{
  "nbformat": 4,
  "nbformat_minor": 0,
  "metadata": {
    "colab": {
      "provenance": [],
      "authorship_tag": "ABX9TyMZkriacYaYRstJXkcSxoF5",
      "include_colab_link": true
    },
    "kernelspec": {
      "name": "python3",
      "display_name": "Python 3"
    },
    "language_info": {
      "name": "python"
    }
  },
  "cells": [
    {
      "cell_type": "markdown",
      "metadata": {
        "id": "view-in-github",
        "colab_type": "text"
      },
      "source": [
        "<a href=\"https://colab.research.google.com/github/content-creatoree/-project-1/blob/main/Untitled19.ipynb\" target=\"_parent\"><img src=\"https://colab.research.google.com/assets/colab-badge.svg\" alt=\"Open In Colab\"/></a>"
      ]
    },
    {
      "cell_type": "markdown",
      "source": [
        "Write a program for \"Guess the number\" game."
      ],
      "metadata": {
        "id": "0CBcjL7KWqx3"
      }
    },
    {
      "cell_type": "code",
      "source": [
        "random_no =66\n",
        "#import_guess_the_number() = 66  #This line is invalid\n",
        "print(\"welcome to the guesss the number for the game\")\n",
        "print(\"I'm thinking of a number between 1 and 100\")\n",
        "print(\"can you guess the numbeer\")\n",
        "print(\"can you guess the numbeer\")"
      ],
      "metadata": {
        "colab": {
          "base_uri": "https://localhost:8080/"
        },
        "id": "gWhbr41sW3ba",
        "outputId": "0c6b6f33-4b0a-47a6-f3d1-fb1d1f2dd70c"
      },
      "execution_count": 3,
      "outputs": [
        {
          "output_type": "stream",
          "name": "stdout",
          "text": [
            "welcome to the guesss the number for the game\n",
            "I'm thinking of a number between 1 and 100\n",
            "can you guess the numbeer\n",
            "can you guess the numbeer\n"
          ]
        }
      ]
    },
    {
      "cell_type": "code",
      "source": [
        "random_no =66\n",
        "def import_guess_the_number():\n",
        "print(\"welcome to the guesss the number for the game\")\n",
        "print(\"I'm thinking of a number between 1 and 100\")\n",
        "print(\"can you guess the numbeer\")\n",
        "print(\"can you guess the numbeer\")"
      ],
      "metadata": {
        "colab": {
          "base_uri": "https://localhost:8080/",
          "height": 106
        },
        "id": "V-Kp7Eu9ZatW",
        "outputId": "508e10dd-91b0-49dc-cffc-f8bfd9f4ce22"
      },
      "execution_count": 8,
      "outputs": [
        {
          "output_type": "error",
          "ename": "IndentationError",
          "evalue": "expected an indented block after function definition on line 2 (<ipython-input-8-2cea89fe5e2c>, line 3)",
          "traceback": [
            "\u001b[0;36m  File \u001b[0;32m\"<ipython-input-8-2cea89fe5e2c>\"\u001b[0;36m, line \u001b[0;32m3\u001b[0m\n\u001b[0;31m    print(\"welcome to the guesss the number for the game\")\u001b[0m\n\u001b[0m    ^\u001b[0m\n\u001b[0;31mIndentationError\u001b[0m\u001b[0;31m:\u001b[0m expected an indented block after function definition on line 2\n"
          ]
        }
      ]
    },
    {
      "cell_type": "code",
      "source": [
        "random_no =66\n",
        "def import_guess_the_number():\n",
        " print(\"welcome to the guesss the number for the game\")\n",
        " print(\"I'm thinking of a number between 1 and 100\")\n",
        " print(\"can you guess the numbeer\")\n",
        " print(\"can you guess the numbeer\")"
      ],
      "metadata": {
        "id": "dVuXqg5cYN1d"
      },
      "execution_count": 6,
      "outputs": []
    },
    {
      "cell_type": "code",
      "source": [
        "random_no =66\n",
        "def import_guess_the_number():\n",
        " print(\"welcome to the guesss the number for the game\")\n",
        " print(\"I'm thinking of a number between 1 and 100\")\n",
        " print(\"can you guess the numbeer\")\n",
        " print(\"can you guess the numbeer\")\n",
        " #generate the random no between 1 and 100\n",
        "import random\n",
        "random_no =66\n",
        "def import_guess_the_number():\n",
        " print(\"welcome to the guesss the number for the game\")\n",
        " print(\"I'm thinking of a number between 1 and 100\")\n",
        " print(\"can you guess the numbeer\")\n",
        " print(\"can you guess the numbeer\")\n",
        " #generate the random no between 1 and 100\n",
        " number_to_guess = random.randint(1, 100)\n",
        " attempt = 0\n",
        " while  True :"
      ],
      "metadata": {
        "colab": {
          "base_uri": "https://localhost:8080/",
          "height": 106
        },
        "id": "xg-ROdt8YvD8",
        "outputId": "1070bfaf-e3b3-4e37-9442-faf478c564e6"
      },
      "execution_count": 11,
      "outputs": [
        {
          "output_type": "error",
          "ename": "SyntaxError",
          "evalue": "incomplete input (<ipython-input-11-0f046a2fbbb3>, line 10)",
          "traceback": [
            "\u001b[0;36m  File \u001b[0;32m\"<ipython-input-11-0f046a2fbbb3>\"\u001b[0;36m, line \u001b[0;32m10\u001b[0m\n\u001b[0;31m    while  True :\u001b[0m\n\u001b[0m                 ^\u001b[0m\n\u001b[0;31mSyntaxError\u001b[0m\u001b[0;31m:\u001b[0m incomplete input\n"
          ]
        }
      ]
    }
  ]
}