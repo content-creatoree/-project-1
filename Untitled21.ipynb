{
  "nbformat": 4,
  "nbformat_minor": 0,
  "metadata": {
    "colab": {
      "provenance": [],
      "authorship_tag": "ABX9TyMMkBbdY/PDJ+TI0cfUQEOy",
      "include_colab_link": true
    },
    "kernelspec": {
      "name": "python3",
      "display_name": "Python 3"
    },
    "language_info": {
      "name": "python"
    }
  },
  "cells": [
    {
      "cell_type": "markdown",
      "metadata": {
        "id": "view-in-github",
        "colab_type": "text"
      },
      "source": [
        "<a href=\"https://colab.research.google.com/github/content-creatoree/-project-1/blob/main/Untitled21.ipynb\" target=\"_parent\"><img src=\"https://colab.research.google.com/assets/colab-badge.svg\" alt=\"Open In Colab\"/></a>"
      ]
    },
    {
      "cell_type": "code",
      "execution_count": 12,
      "metadata": {
        "colab": {
          "base_uri": "https://localhost:8080/"
        },
        "id": "9dfulSeerInE",
        "outputId": "5b3c1d15-5662-4c84-a4b0-48aa26d31ace"
      },
      "outputs": [
        {
          "output_type": "stream",
          "name": "stdout",
          "text": [
            "saddam\n"
          ]
        }
      ],
      "source": [
        "user1  = {\n",
        "    \"username\" : \"saddam\",\n",
        "    \"age\"      :   18,\n",
        "    \"city\"     : \"islamabad\",\n",
        "\n",
        "}\n",
        "user1[\"usename\"] = \"saddam\"\n",
        "print(user1[\"username\"])"
      ]
    },
    {
      "cell_type": "code",
      "source": [
        "user1  = {\n",
        "    \"username\" : \"ali\",\n",
        "    \"age\"      :   18,\n",
        "    \"city\"     : \"islamabad\",\n",
        "\n",
        "}\n",
        "user1[\"usename\"] = \"ali\"\n",
        "print(user1[\"username\"])\n"
      ],
      "metadata": {
        "colab": {
          "base_uri": "https://localhost:8080/"
        },
        "id": "XCW-sWPyuGPM",
        "outputId": "5755ab74-3585-4601-f396-4e59d2ae4a0e"
      },
      "execution_count": 14,
      "outputs": [
        {
          "output_type": "stream",
          "name": "stdout",
          "text": [
            "ali\n"
          ]
        }
      ]
    },
    {
      "cell_type": "code",
      "source": [
        "\n",
        " user1  = {\n",
        "    \"username\" : \"zeeshan\",\n",
        "    \"age\"      :   18,\n",
        "    \"city\"     : \"islamabad\",\n",
        "\n",
        "}\n",
        "user1[\"usename\"] = \"zeeshan\"\n",
        "print(user1[\"username\"])"
      ],
      "metadata": {
        "colab": {
          "base_uri": "https://localhost:8080/"
        },
        "id": "ju9ONfNHsgxu",
        "outputId": "eaf6c404-4705-4d94-af69-0db2d1621161"
      },
      "execution_count": 17,
      "outputs": [
        {
          "output_type": "stream",
          "name": "stdout",
          "text": [
            "zeeshan\n"
          ]
        }
      ]
    },
    {
      "cell_type": "code",
      "source": [
        " user1  = {\n",
        "    \"username\" : \"zeeshan\",\n",
        "    \"age\"      :   18,\n",
        "    \"city\"     : \"islamabad\",\n",
        "\n",
        "}\n",
        "user1[\"usename\"] = \"zeeshan\"\n",
        "print(user1[\"username\"])\n"
      ],
      "metadata": {
        "colab": {
          "base_uri": "https://localhost:8080/"
        },
        "id": "t0doGu-vuj7B",
        "outputId": "cb5d761c-da9a-4e77-8031-d014393d9dcf"
      },
      "execution_count": 16,
      "outputs": [
        {
          "output_type": "stream",
          "name": "stdout",
          "text": [
            "zeeshan\n"
          ]
        }
      ]
    },
    {
      "cell_type": "code",
      "source": [
        "user1  = {\n",
        "    \"username\" : \"zeeshan\",\n",
        "    \"age\"      :   18,\n",
        "    \"city\"     : \"islamabad\",\n",
        "\n",
        "}\n",
        "user1[\"usename\"] = \"zeeshan\"\n",
        "print(user1[\"username\"])\n"
      ],
      "metadata": {
        "colab": {
          "base_uri": "https://localhost:8080/"
        },
        "id": "-BNPiF6WubP3",
        "outputId": "4028124e-b660-448f-9a66-f79da988dbb4"
      },
      "execution_count": 15,
      "outputs": [
        {
          "output_type": "stream",
          "name": "stdout",
          "text": [
            "zeeshan\n"
          ]
        }
      ]
    },
    {
      "cell_type": "code",
      "source": [
        "print(1)\n",
        "print(2)\n",
        "print(3)\n",
        "print(4)\n",
        "print(5)\n",
        "for i in range(1,6): # Change if to for as i is not defined\n",
        "    print(i) # Indent this line to be part of the if block"
      ],
      "metadata": {
        "colab": {
          "base_uri": "https://localhost:8080/"
        },
        "id": "X1uLQJg5urtu",
        "outputId": "4885c53f-eccb-4d07-ed65-6732d6c8f0c5"
      },
      "execution_count": 27,
      "outputs": [
        {
          "output_type": "stream",
          "name": "stdout",
          "text": [
            "1\n",
            "2\n",
            "3\n",
            "4\n",
            "5\n",
            "1\n",
            "2\n",
            "3\n",
            "4\n",
            "5\n"
          ]
        }
      ]
    }
  ]
}