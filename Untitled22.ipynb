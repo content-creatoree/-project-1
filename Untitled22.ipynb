{
  "nbformat": 4,
  "nbformat_minor": 0,
  "metadata": {
    "colab": {
      "provenance": [],
      "authorship_tag": "ABX9TyNFtCQ6xgoHY/MLACytJtRj",
      "include_colab_link": true
    },
    "kernelspec": {
      "name": "python3",
      "display_name": "Python 3"
    },
    "language_info": {
      "name": "python"
    }
  },
  "cells": [
    {
      "cell_type": "markdown",
      "metadata": {
        "id": "view-in-github",
        "colab_type": "text"
      },
      "source": [
        "<a href=\"https://colab.research.google.com/github/content-creatoree/-project-1/blob/main/Untitled22.ipynb\" target=\"_parent\"><img src=\"https://colab.research.google.com/assets/colab-badge.svg\" alt=\"Open In Colab\"/></a>"
      ]
    },
    {
      "cell_type": "markdown",
      "source": [
        "As for you💑😍💕💌👩‍❤️‍👩👨nice"
      ],
      "metadata": {
        "id": "kJ3iRHKfwcRn"
      }
    },
    {
      "cell_type": "code",
      "source": [
        "student = [\"Ahram Saeed\",\"Saim Saeed\"]\n",
        "for student in student:\n",
        "  print(student)"
      ],
      "metadata": {
        "colab": {
          "base_uri": "https://localhost:8080/"
        },
        "id": "DsSu3rALhHmr",
        "outputId": "1f2ad727-7a49-478c-ad2b-6808f9c1918d"
      },
      "execution_count": 11,
      "outputs": [
        {
          "output_type": "stream",
          "name": "stdout",
          "text": [
            "Ahram Saeed\n",
            "Saim Saeed\n"
          ]
        }
      ]
    },
    {
      "cell_type": "code",
      "source": [
        "Name = [\"Saim Saeed\"]\n",
        "Father = [\"Saeed Ahmad\"]\n",
        "for Name in Name:\n",
        "  print(Name)\n",
        "  for Father in Father:\n",
        "    print(Father)"
      ],
      "metadata": {
        "colab": {
          "base_uri": "https://localhost:8080/"
        },
        "id": "zDWJ8RmkjLae",
        "outputId": "91d09f56-0d71-4667-9dae-ad72b21fc6a3"
      },
      "execution_count": 12,
      "outputs": [
        {
          "output_type": "stream",
          "name": "stdout",
          "text": [
            "Saim Saeed\n",
            "Saeed Ahmad\n"
          ]
        }
      ]
    },
    {
      "cell_type": "code",
      "source": [
        "Name = [\"Ahram Saeed\"]\n",
        "Father = [\"Saeed Ahmad \"]\n",
        "for Name in Name:\n",
        "  print(Name)\n",
        "  for Father  in Father :\n",
        "    print(Father )"
      ],
      "metadata": {
        "colab": {
          "base_uri": "https://localhost:8080/"
        },
        "id": "-orQVj6Pj2W3",
        "outputId": "a5abfb81-7c7e-4562-f0f3-5c0dbc2312ca"
      },
      "execution_count": 16,
      "outputs": [
        {
          "output_type": "stream",
          "name": "stdout",
          "text": [
            "Ahram Saeed\n",
            "Saeed Ahmad \n"
          ]
        }
      ]
    },
    {
      "cell_type": "code",
      "source": [
        "Name = [\"Bismillaha Saeed\"]\n",
        "Father  = [\"Saeed Ahmad\"]\n",
        "for Name in Name:\n",
        "  print(Name)\n",
        "  for Father in Father:\n",
        "    print(Father)\n"
      ],
      "metadata": {
        "colab": {
          "base_uri": "https://localhost:8080/"
        },
        "id": "hUMseIyJkeVH",
        "outputId": "d9cd0364-4a1a-46b8-f1c8-bab23b7be250"
      },
      "execution_count": 17,
      "outputs": [
        {
          "output_type": "stream",
          "name": "stdout",
          "text": [
            "Bismillaha Saeed\n",
            "Saeed Ahmad\n"
          ]
        }
      ]
    },
    {
      "cell_type": "code",
      "source": [
        "Name = [\"iqra saeed\"]\n",
        "Father = [\"Saeed Ahmad\"]\n",
        "for Name in Name:\n",
        "  print(Name)\n",
        "  for Father in Father:\n",
        "    print(Father)"
      ],
      "metadata": {
        "colab": {
          "base_uri": "https://localhost:8080/"
        },
        "id": "EscglH1ZvzoU",
        "outputId": "3f93fea7-27fc-489d-fa56-0f9ef1dac9d9"
      },
      "execution_count": 18,
      "outputs": [
        {
          "output_type": "stream",
          "name": "stdout",
          "text": [
            "iqra saeed\n",
            "Saeed Ahmad\n"
          ]
        }
      ]
    }
  ]
}