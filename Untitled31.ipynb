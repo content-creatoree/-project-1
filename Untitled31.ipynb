{
  "nbformat": 4,
  "nbformat_minor": 0,
  "metadata": {
    "colab": {
      "provenance": [],
      "authorship_tag": "ABX9TyPFiP8sF9++UqdGGJKwSJPp",
      "include_colab_link": true
    },
    "kernelspec": {
      "name": "python3",
      "display_name": "Python 3"
    },
    "language_info": {
      "name": "python"
    }
  },
  "cells": [
    {
      "cell_type": "markdown",
      "metadata": {
        "id": "view-in-github",
        "colab_type": "text"
      },
      "source": [
        "<a href=\"https://colab.research.google.com/github/content-creatoree/-project-1/blob/main/Untitled31.ipynb\" target=\"_parent\"><img src=\"https://colab.research.google.com/assets/colab-badge.svg\" alt=\"Open In Colab\"/></a>"
      ]
    },
    {
      "cell_type": "markdown",
      "source": [
        "\n",
        "\n",
        " Rock, paper, scissors Python Project\n"
      ],
      "metadata": {
        "id": "GQrjSpia9sxt"
      }
    },
    {
      "cell_type": "code",
      "execution_count": null,
      "metadata": {
        "colab": {
          "base_uri": "https://localhost:8080/"
        },
        "id": "IPoqLiLJ83Te",
        "outputId": "dd931fe6-b6dd-4233-d92d-99f048d0c63b"
      },
      "outputs": [
        {
          "output_type": "stream",
          "name": "stdout",
          "text": [
            "Welcome to Rock, Paper, Scissors! 🎮\n",
            "Enter rock, paper, or scissors (or 'quit' to exit): Rock beats Scissors\n",
            "❌ Invalid choice, please try again.\n",
            "Enter rock, paper, or scissors (or 'quit' to exit): Rock\n",
            "💻 Computer chose: paper\n",
            "💻 Computer wins!\n",
            "------------------------------\n",
            "Enter rock, paper, or scissors (or 'quit' to exit): paper\n",
            "💻 Computer chose: rock\n",
            "🎉 You win!\n",
            "------------------------------\n",
            "Enter rock, paper, or scissors (or 'quit' to exit): scissors\n",
            "💻 Computer chose: scissors\n",
            "It's a tie!\n",
            "------------------------------\n",
            "Enter rock, paper, or scissors (or 'quit' to exit): paper\n",
            "💻 Computer chose: scissors\n",
            "💻 Computer wins!\n",
            "------------------------------\n",
            "Enter rock, paper, or scissors (or 'quit' to exit): paper\n",
            "💻 Computer chose: scissors\n",
            "💻 Computer wins!\n",
            "------------------------------\n"
          ]
        }
      ],
      "source": [
        "import random\n",
        "\n",
        "def get_computer_choice():\n",
        "    return random.choice([\"rock\", \"paper\", \"scissors\"])\n",
        "\n",
        "def determine_winner(user, computer):\n",
        "    if user == computer:\n",
        "        return \"It's a tie!\"\n",
        "    elif (user == \"rock\" and computer == \"scissors\") or \\\n",
        "         (user == \"scissors\" and computer == \"paper\") or \\\n",
        "         (user == \"paper\" and computer == \"rock\"):\n",
        "        return \"🎉 You win!\"\n",
        "    else:\n",
        "        return \"💻 Computer wins!\"\n",
        "\n",
        "def rock_paper_scissors():\n",
        "    print(\"Welcome to Rock, Paper, Scissors! 🎮\")\n",
        "\n",
        "    while True:\n",
        "        user_choice = input(\"Enter rock, paper, or scissors (or 'quit' to exit): \").lower()\n",
        "        if user_choice == \"quit\":\n",
        "            print(\"Thanks for playing! 👋\")\n",
        "            break\n",
        "        if user_choice not in [\"rock\", \"paper\", \"scissors\"]:\n",
        "            print(\"❌ Invalid choice, please try again.\")\n",
        "            continue\n",
        "\n",
        "        computer_choice = get_computer_choice()\n",
        "        print(f\"💻 Computer chose: {computer_choice}\")\n",
        "        print(determine_winner(user_choice, computer_choice))\n",
        "        print(\"-\" * 30)\n",
        "\n",
        "# Run the game\n",
        "rock_paper_scissors()\n",
        "\n"
      ]
    }
  ]
}