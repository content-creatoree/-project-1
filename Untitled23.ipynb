{
  "nbformat": 4,
  "nbformat_minor": 0,
  "metadata": {
    "colab": {
      "provenance": [],
      "authorship_tag": "ABX9TyPz1bTQK+IKLUjHzJp6rDVe",
      "include_colab_link": true
    },
    "kernelspec": {
      "name": "python3",
      "display_name": "Python 3"
    },
    "language_info": {
      "name": "python"
    }
  },
  "cells": [
    {
      "cell_type": "markdown",
      "metadata": {
        "id": "view-in-github",
        "colab_type": "text"
      },
      "source": [
        "<a href=\"https://colab.research.google.com/github/content-creatoree/-project-1/blob/main/Untitled23.ipynb\" target=\"_parent\"><img src=\"https://colab.research.google.com/assets/colab-badge.svg\" alt=\"Open In Colab\"/></a>"
      ]
    },
    {
      "cell_type": "code",
      "execution_count": 1,
      "metadata": {
        "colab": {
          "base_uri": "https://localhost:8080/"
        },
        "id": "hKP57yK50Ok9",
        "outputId": "c34a1f5a-4347-48d1-d730-9f79e2f3073b"
      },
      "outputs": [
        {
          "output_type": "stream",
          "name": "stdout",
          "text": [
            "<class 'NoneType'>\n",
            "the value of x =None\n"
          ]
        }
      ],
      "source": [
        "x = None\n",
        "y = None\n",
        "z = x\n",
        "#display the date type\n",
        "print(type(x))\n",
        "print(\"the value of x =\" + str(x) )"
      ]
    },
    {
      "cell_type": "code",
      "source": [
        "print (\"\"\" the variable (x), (y),(z)have none value we now that none is singelton object\n",
        "meaning that there is only one example of the none in the entire of python enviroment\n",
        "so the id(x), id(y),and id(z)represent the same object id in memory. n/\"\"\")\n",
        "print(\"ID of the variable x =\" + str(x) )\n",
        "print(\"ID of the variable y = \" + str(y))\n",
        "print(\"ID of the variable z = \" + str(z))\n",
        "print(\"/nis the variable x and y share the same memory space ? / n the answer is: \" + str(id(x) == id(y)))"
      ],
      "metadata": {
        "colab": {
          "base_uri": "https://localhost:8080/"
        },
        "id": "qso6w5VHDln8",
        "outputId": "0ddbff5a-622f-481b-b8df-8db9d689371c"
      },
      "execution_count": 2,
      "outputs": [
        {
          "output_type": "stream",
          "name": "stdout",
          "text": [
            " the variable (x), (y),(z)have none value we now that none is singelton object\n",
            "meaning that there is only one example of the none in the entire of python enviroment\n",
            "so the id(x), id(y),and id(z)represent the same object id in memory. n/\n",
            "ID of the variable x =None\n",
            "ID of the variable y = None\n",
            "ID of the variable z = None\n",
            "/nis the variable x and y share the same memory space ? / n the answer is: True\n"
          ]
        }
      ]
    }
  ]
}