{
  "nbformat": 4,
  "nbformat_minor": 0,
  "metadata": {
    "colab": {
      "provenance": [],
      "authorship_tag": "ABX9TyM4zq0eKfSMiEY5dK8jethn",
      "include_colab_link": true
    },
    "kernelspec": {
      "name": "python3",
      "display_name": "Python 3"
    },
    "language_info": {
      "name": "python"
    }
  },
  "cells": [
    {
      "cell_type": "markdown",
      "metadata": {
        "id": "view-in-github",
        "colab_type": "text"
      },
      "source": [
        "<a href=\"https://colab.research.google.com/github/content-creatoree/-project-1/blob/main/Copy_of_Untitled15.ipynb\" target=\"_parent\"><img src=\"https://colab.research.google.com/assets/colab-badge.svg\" alt=\"Open In Colab\"/></a>"
      ]
    },
    {
      "cell_type": "code",
      "execution_count": null,
      "metadata": {
        "id": "u1wi3yryimuP"
      },
      "outputs": [],
      "source": [
        "is_hungary = True\n",
        "if(False):\n",
        "  print(\"I Love you\")\n"
      ]
    },
    {
      "cell_type": "code",
      "source": [
        "is_romantic = False\n",
        "if(True):\n",
        " print(\"mast hai baba\")"
      ],
      "metadata": {
        "colab": {
          "base_uri": "https://localhost:8080/"
        },
        "id": "jBuqJ4zqjI8u",
        "outputId": "26ca76ab-de29-476a-b2c1-6ddb0cb70274"
      },
      "execution_count": null,
      "outputs": [
        {
          "output_type": "stream",
          "name": "stdout",
          "text": [
            "mast hai baba\n"
          ]
        }
      ]
    },
    {
      "cell_type": "code",
      "source": [
        "is_hungry = True\n",
        "bargar_lover = True\n",
        "pizza_lover = False\n",
        "if(is_hungry and( bargar_lover or pizza_lover)):\n",
        "  print(\"lets order the piza\")\n"
      ],
      "metadata": {
        "id": "9s7QS5Rmlov0",
        "colab": {
          "base_uri": "https://localhost:8080/"
        },
        "outputId": "74a0ca1d-0875-4dae-d56b-5d8bb983e64b"
      },
      "execution_count": null,
      "outputs": [
        {
          "output_type": "stream",
          "name": "stdout",
          "text": [
            "lets order the piza\n"
          ]
        }
      ]
    },
    {
      "cell_type": "code",
      "source": [
        "is_hungry = True\n",
        "bargar_lover = True\n",
        "if(is_hungry and bargar_lover): # Changed 'burgar_lover' to 'bargar_lover' to match the variable definition.\n",
        "  print(\"lets order the piza\")"
      ],
      "metadata": {
        "colab": {
          "base_uri": "https://localhost:8080/"
        },
        "id": "LjJal8zDoNBN",
        "outputId": "9200d9b7-d5a3-4aa9-f279-29fa1c8f540d"
      },
      "execution_count": null,
      "outputs": [
        {
          "output_type": "stream",
          "name": "stdout",
          "text": [
            "lets order the piza\n"
          ]
        }
      ]
    },
    {
      "cell_type": "code",
      "source": [
        "is_hungary = True\n",
        "bargur_lover = False\n",
        "pizza_lover = False\n",
        "if(is_hungary and (bargur_lover or pizza_lover)):\n",
        "  print(\"lets order the pizza\")\n"
      ],
      "metadata": {
        "id": "kbSqBcCMsYFy"
      },
      "execution_count": null,
      "outputs": []
    },
    {
      "cell_type": "code",
      "source": [
        "is_hungary = True\n",
        "bargur_lover = False\n",
        "pizza_lover = False\n",
        "if(is_hungary and (bargur_lover or pizza_lover)):\n",
        "  print(\"lets order the pizza\")\n",
        "else:\n",
        "  print(\"go to the sleep\")"
      ],
      "metadata": {
        "colab": {
          "base_uri": "https://localhost:8080/"
        },
        "id": "MdQagVBYwhxq",
        "outputId": "6ba8f424-f798-4f55-fa3e-811b112e6eb8"
      },
      "execution_count": null,
      "outputs": [
        {
          "output_type": "stream",
          "name": "stdout",
          "text": [
            "go to the sleep\n"
          ]
        }
      ]
    },
    {
      "cell_type": "code",
      "source": [
        "is_hungary = True\n",
        "bargur_lover = True\n",
        "pizza_lover = False\n",
        "if(is_hungary and (bargur_lover or pizza_lover)):\n",
        "  print(\"lets order the pizza\")\n"
      ],
      "metadata": {
        "colab": {
          "base_uri": "https://localhost:8080/"
        },
        "id": "qSjvCs1It5u6",
        "outputId": "b19a2b64-f0eb-4f7e-ffea-f282f3f2e077"
      },
      "execution_count": null,
      "outputs": [
        {
          "output_type": "stream",
          "name": "stdout",
          "text": [
            "lets order the pizza\n"
          ]
        }
      ]
    },
    {
      "cell_type": "code",
      "source": [
        "is_hungary = False\n",
        "bargur_lover = False\n",
        "pizza_lover = False\n",
        "is_hungary = False\n",
        "bargur_lover = False\n",
        "pizza_lover = False\n",
        "if(is_hungary and (bargur_lover or pizza_lover)):\n",
        "  print(\"lets order the pizza\")\n",
        "elif (is_hungary):\n",
        " print(\"lets order the pizza\")\n",
        "else:\n",
        " print(\"go to the sleep\")\n",
        "\n",
        "\n",
        "\n"
      ],
      "metadata": {
        "colab": {
          "base_uri": "https://localhost:8080/"
        },
        "id": "BRH3EsBNw8un",
        "outputId": "5042ec75-4aba-4a71-aa38-476c42c2b9d0"
      },
      "execution_count": null,
      "outputs": [
        {
          "output_type": "stream",
          "name": "stdout",
          "text": [
            "go to the sleep\n"
          ]
        }
      ]
    },
    {
      "cell_type": "code",
      "source": [
        "from re import escape\n",
        "first_number = 12\n",
        "second_number = 22\n",
        "from re import escape\n",
        "first_number = 12\n",
        "second_number = 22\n",
        "if(first_number and second_number):\n",
        "  print(\"both are equal\")\n",
        "else:\n",
        "  print(\"not equal\")"
      ],
      "metadata": {
        "colab": {
          "base_uri": "https://localhost:8080/"
        },
        "id": "-svl25qS1ThV",
        "outputId": "3ea3b2a0-ce28-447a-d85f-1e771c292cdd"
      },
      "execution_count": null,
      "outputs": [
        {
          "output_type": "stream",
          "name": "stdout",
          "text": [
            "both are equal\n"
          ]
        }
      ]
    },
    {
      "cell_type": "code",
      "source": [
        "first_number = 12\n",
        "second_number = 22\n",
        "result = first_number + second_number\n",
        "print(result)\n"
      ],
      "metadata": {
        "colab": {
          "base_uri": "https://localhost:8080/"
        },
        "id": "j7EWcUoH2APX",
        "outputId": "4cccade6-5ef9-41c0-fe50-10a2f288c96f"
      },
      "execution_count": null,
      "outputs": [
        {
          "output_type": "stream",
          "name": "stdout",
          "text": [
            "34\n"
          ]
        }
      ]
    },
    {
      "cell_type": "code",
      "source": [],
      "metadata": {
        "id": "KIGGQGmh7Mzp"
      },
      "execution_count": null,
      "outputs": []
    }
  ]
}