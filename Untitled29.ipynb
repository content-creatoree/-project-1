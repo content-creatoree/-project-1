{
  "nbformat": 4,
  "nbformat_minor": 0,
  "metadata": {
    "colab": {
      "provenance": [],
      "authorship_tag": "ABX9TyMJKqAEPGNjmHVbRYoS+xYY",
      "include_colab_link": true
    },
    "kernelspec": {
      "name": "python3",
      "display_name": "Python 3"
    },
    "language_info": {
      "name": "python"
    }
  },
  "cells": [
    {
      "cell_type": "markdown",
      "metadata": {
        "id": "view-in-github",
        "colab_type": "text"
      },
      "source": [
        "<a href=\"https://colab.research.google.com/github/content-creatoree/-project-1/blob/main/Untitled29.ipynb\" target=\"_parent\"><img src=\"https://colab.research.google.com/assets/colab-badge.svg\" alt=\"Open In Colab\"/></a>"
      ]
    },
    {
      "cell_type": "markdown",
      "source": [
        "Guess the Number Game Python Project ."
      ],
      "metadata": {
        "id": "OcO8I-4-63kQ"
      }
    },
    {
      "cell_type": "code",
      "source": [
        "import random\n",
        "\n",
        "def guess_the_number():\n",
        "    print(\"Welcome to 'Guess the Number'!\")\n",
        "    print(\"I have chosen a number between 1 and 100. Try to guess it!\")\n",
        "\n",
        "    # Computer picks a random number\n",
        "    secret_number = random.randint(1, 100)\n",
        "    attempts = 0\n",
        "\n",
        "    while True:\n",
        "        try:\n",
        "            # User inputs a guess\n",
        "            user_guess = int(input(\"Enter your guess: \"))\n",
        "            attempts += 1\n",
        "\n",
        "            # Check the guess\n",
        "            if user_guess < secret_number:\n",
        "                print(\"Too low! Try again.\")\n",
        "            elif user_guess > secret_number:\n",
        "                print(\"Too high! Try again.\")\n",
        "            else:\n",
        "                print(f\"Congratulations! You guessed the number {secret_number} in {attempts} attempts!\")\n",
        "                break  # Exit loop when guessed correctly\n",
        "\n",
        "        except ValueError:\n",
        "            print(\"Invalid input! Please enter a number.\")\n",
        "\n",
        "# Run the game\n",
        "guess_the_number()\n"
      ],
      "metadata": {
        "colab": {
          "base_uri": "https://localhost:8080/"
        },
        "id": "mWVlUDHU7Up6",
        "outputId": "159fe7bd-94bb-477a-f361-b67a35a7f5f0"
      },
      "execution_count": null,
      "outputs": [
        {
          "output_type": "stream",
          "name": "stdout",
          "text": [
            "Welcome to 'Guess the Number'!\n",
            "I have chosen a number between 1 and 100. Try to guess it!\n",
            "Enter your guess: 50\n",
            "Too low! Try again.\n",
            "Enter your guess: 75\n",
            "Too low! Try again.\n",
            "Enter your guess: 62\n",
            "Too low! Try again.\n",
            "Enter your guess: 3\n",
            "Too low! Try again.\n",
            "Enter your guess: 100\n",
            "Too high! Try again.\n",
            "Enter your guess: 99\n",
            "Too high! Try again.\n",
            "Enter your guess: 66\n",
            "Too low! Try again.\n",
            "Enter your guess: 63\n",
            "Too low! Try again.\n"
          ]
        }
      ]
    }
  ]
}