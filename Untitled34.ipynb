{
  "nbformat": 4,
  "nbformat_minor": 0,
  "metadata": {
    "colab": {
      "provenance": [],
      "authorship_tag": "ABX9TyOfCvxMCv9xiCz+9t7IblkA",
      "include_colab_link": true
    },
    "kernelspec": {
      "name": "python3",
      "display_name": "Python 3"
    },
    "language_info": {
      "name": "python"
    }
  },
  "cells": [
    {
      "cell_type": "markdown",
      "metadata": {
        "id": "view-in-github",
        "colab_type": "text"
      },
      "source": [
        "<a href=\"https://colab.research.google.com/github/content-creatoree/-project-1/blob/main/Untitled34.ipynb\" target=\"_parent\"><img src=\"https://colab.research.google.com/assets/colab-badge.svg\" alt=\"Open In Colab\"/></a>"
      ]
    },
    {
      "cell_type": "code",
      "execution_count": null,
      "metadata": {
        "colab": {
          "base_uri": "https://localhost:8080/"
        },
        "id": "UBa7GBAyKXUv",
        "outputId": "2116d5b0-08b0-4ea2-8b95-6b965d2bcf3b"
      },
      "outputs": [
        {
          "output_type": "stream",
          "name": "stdout",
          "text": [
            "Welcome to Hangman!\n",
            "\n",
            "Word: _ _ _ _ _ _ _ _ _ _ _\n",
            "Attempts left: 6\n",
            "Guess a letter: 6\n",
            "Invalid input. Please enter a single letter.\n",
            "\n",
            "Word: _ _ _ _ _ _ _ _ _ _ _\n",
            "Attempts left: 6\n",
            "Guess a letter: b\n",
            "Wrong guess! Try again.\n",
            "\n",
            "Word: _ _ _ _ _ _ _ _ _ _ _\n",
            "Attempts left: 5\n",
            "Guess a letter: o\n",
            "Good job! That letter is in the word.\n",
            "\n",
            "Word: _ _ o _ _ _ _ _ _ _ _\n",
            "Attempts left: 5\n",
            "Guess a letter: s\n",
            "Wrong guess! Try again.\n",
            "\n",
            "Word: _ _ o _ _ _ _ _ _ _ _\n",
            "Attempts left: 4\n"
          ]
        }
      ],
      "source": [
        "import random\n",
        "\n",
        "def choose_word():\n",
        "    words = ['python', 'hangman', 'challenge', 'programming', 'developer', 'function']\n",
        "    return random.choice(words)\n",
        "\n",
        "def display_word(word, guessed_letters):\n",
        "    return ' '.join(letter if letter in guessed_letters else '_' for letter in word)\n",
        "\n",
        "def hangman():\n",
        "    word = choose_word()\n",
        "    guessed_letters = set()\n",
        "    attempts = 6\n",
        "\n",
        "    print(\"Welcome to Hangman!\")\n",
        "\n",
        "    while attempts > 0:\n",
        "        print(\"\\nWord:\", display_word(word, guessed_letters))\n",
        "        print(f\"Attempts left: {attempts}\")\n",
        "\n",
        "        guess = input(\"Guess a letter: \").lower()\n",
        "\n",
        "        if len(guess) != 1 or not guess.isalpha():\n",
        "            print(\"Invalid input. Please enter a single letter.\")\n",
        "            continue\n",
        "\n",
        "        if guess in guessed_letters:\n",
        "            print(\"You already guessed that letter.\")\n",
        "            continue\n",
        "\n",
        "        guessed_letters.add(guess)\n",
        "\n",
        "        if guess in word:\n",
        "            print(\"Good job! That letter is in the word.\")\n",
        "            if all(letter in guessed_letters for letter in word):\n",
        "                print(\"\\nCongratulations! You guessed the word:\", word)\n",
        "                return\n",
        "        else:\n",
        "            attempts -= 1\n",
        "            print(\"Wrong guess! Try again.\")\n",
        "\n",
        "    print(\"\\nGame over! The word was:\", word)\n",
        "\n",
        "if __name__ == \"__main__\":\n",
        "    hangman()\n"
      ]
    }
  ]
}